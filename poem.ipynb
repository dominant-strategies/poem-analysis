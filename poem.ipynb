{
 "cells": [
  {
   "cell_type": "markdown",
   "id": "93315298-619e-45e0-8541-9a8e04436a2f",
   "metadata": {},
   "source": [
    "## Honest Party execution"
   ]
  },
  {
   "cell_type": "code",
   "execution_count": 19,
   "id": "4ee7e90e-156e-4d91-81ef-90afd2e3e4ee",
   "metadata": {},
   "outputs": [],
   "source": [
    "import csv\n",
    "import pandas as pd\n",
    "import glob"
   ]
  },
  {
   "cell_type": "code",
   "execution_count": 20,
   "id": "e56d870e-0278-4ceb-8887-2a553723e327",
   "metadata": {},
   "outputs": [],
   "source": [
    "def filter_first_le_value(df, low):\n",
    "    filtered_df = df[df['CumBits'] > low]\n",
    "    if not filtered_df.empty:\n",
    "        return filtered_df.iloc[0]\n",
    "    else:\n",
    "        return None"
   ]
  },
  {
   "cell_type": "markdown",
   "id": "abd449eb-0f32-4fd5-81ac-18268ce9224b",
   "metadata": {},
   "source": [
    "## Monte Carlo Analysis and Probability Calculations"
   ]
  },
  {
   "cell_type": "code",
   "execution_count": 222,
   "id": "70f0e9c7-5761-42ea-af20-2912751fbf71",
   "metadata": {},
   "outputs": [],
   "source": [
    "folder_name_honest=\"/home/gop/quai/POEM-analysis/poem_db/11g800mspoem/poemhonest1/*/34.31.199.132/simulations/\"\n",
    "folder_name_adv=\"/home/gop/quai/POEM-analysis/poem_db/11g800mspoem/poemadv1/*/34.72.118.123/simulations/\"\n",
    "folder_honest = glob.glob(folder_name_honest, recursive=True)[0]\n",
    "folder_adv = glob.glob(folder_name_adv, recursive=True)[0]"
   ]
  },
  {
   "cell_type": "code",
   "execution_count": 214,
   "id": "b3f4f942-8cd0-4447-9d50-19631cd2f2fe",
   "metadata": {},
   "outputs": [],
   "source": [
    "import math\n",
    "x_bits=[]\n",
    "TOTAL_BLOCKS=200\n",
    "TOTAL_ROUNDS=100\n",
    "#threshold=math.log(25000)\n",
    "threshold=11\n",
    "for i in range(0, TOTAL_BLOCKS):\n",
    "    x_bits.append((threshold + 1/math.log(2))*i)"
   ]
  },
  {
   "cell_type": "code",
   "execution_count": 215,
   "id": "a0efdafa-a42b-49d8-a105-2a37e0571053",
   "metadata": {},
   "outputs": [],
   "source": [
    "import math\n",
    "\n",
    "def compute_one_round(i):\n",
    "    # Honest Party\n",
    "    honest_file=folder_honest+f\"{i}\"+\".csv\"\n",
    "    df1 = pd.read_csv(honest_file, skiprows=1)\n",
    "    df1['Delta Timestamp']=df1[' Time Stamp'].diff()/1000\n",
    "    df1['Delta Timestamp']=df1['Delta Timestamp'].fillna(0)\n",
    "    df1['CumBits']=df1[' Extra Bits'].cumsum()\n",
    "    df1['CumTime']=df1['Delta Timestamp'].cumsum()\n",
    "\n",
    "    columns=['Bits', 'Time', 'CumBits']\n",
    "    df1_final = pd.DataFrame(columns=columns)\n",
    "\n",
    "    cum_honest_times=[]\n",
    "    cum_honest_bits=[]\n",
    "    for bit in x_bits:\n",
    "        value=filter_first_le_value(df1, bit)\n",
    "        if value is not None:\n",
    "            cum_honest_times.append(value.CumTime)\n",
    "            cum_honest_bits.append(value.CumBits)\n",
    "        else:\n",
    "            cum_honest_times.append(10000)\n",
    "            cum_honest_bits.append(0)\n",
    "    \n",
    "    df1_final['Bits']=x_bits\n",
    "    df1_final['Time']=cum_honest_times\n",
    "    df1_final['CumBits']=cum_honest_bits\n",
    "\n",
    "    # Adversary\n",
    "    adv_file=folder_adv+f\"{i}\"+\".csv\"\n",
    "    df2 = pd.read_csv(adv_file, skiprows=1)\n",
    "    df2['Delta Timestamp']=df2[' Time Stamp'].diff()/1000\n",
    "    df2['Delta Timestamp']=df2['Delta Timestamp'].fillna(0)\n",
    "    df2['CumBits']=df2[' Extra Bits'].cumsum()\n",
    "    df2['CumTime']=df2['Delta Timestamp'].cumsum()\n",
    "\n",
    "    columns=['Bits', 'Time', 'CumBits']\n",
    "    df2_final = pd.DataFrame(columns=columns)\n",
    "\n",
    "    cum_adv_times=[]\n",
    "    cum_adv_bits=[]\n",
    "    for bit in x_bits:\n",
    "        value=filter_first_le_value(df2, bit)\n",
    "        if value is not None:\n",
    "            cum_adv_times.append(value.CumTime)\n",
    "            cum_adv_bits.append(value.CumBits)\n",
    "        else:\n",
    "            cum_adv_times.append(10000)\n",
    "            cum_adv_bits.append(0)\n",
    "\n",
    "    df2_final['Bits']=x_bits\n",
    "    df2_final['Time']=cum_adv_times\n",
    "    df2_final['CumBits']=cum_adv_bits\n",
    "\n",
    "    results = []\n",
    "    \n",
    "    for bits in df1_final['Bits']:\n",
    "        row_df1 = df1_final[df1_final['Bits'] == bits]\n",
    "        row_df2 = df2_final[df2_final['Bits'] == bits]\n",
    "\n",
    "        winner = 1 if row_df1['Time'].iloc[0] < row_df2['Time'].iloc[0] else 0\n",
    "        results.append([bits, winner])\n",
    "\n",
    "    winning_df = pd.DataFrame(results, columns=['Bits', 'Winner'])\n",
    "\n",
    "    return winning_df"
   ]
  },
  {
   "cell_type": "code",
   "execution_count": 216,
   "id": "8c07c59c-88d9-4494-a462-67473b550ffb",
   "metadata": {},
   "outputs": [],
   "source": [
    "all_dfs=[]\n",
    "for i in range(1, TOTAL_ROUNDS+1):\n",
    "    all_dfs.append(compute_one_round(i))"
   ]
  },
  {
   "cell_type": "code",
   "execution_count": 217,
   "id": "b06963cc-4f33-4933-b255-fc7234795335",
   "metadata": {},
   "outputs": [
    {
     "name": "stdout",
     "output_type": "stream",
     "text": [
      "f 0.5995999708834254 Average Bits 11.958843610771334\n"
     ]
    }
   ],
   "source": [
    "cumbits=0\n",
    "cumtime=0\n",
    "for i in range(1, TOTAL_ROUNDS+1):\n",
    "    honest_file=folder_honest+f\"{i}\"+\".csv\"\n",
    "    df1 = pd.read_csv(honest_file, skiprows=1)\n",
    "    cumbits+=df1[' Extra Bits'].sum()\n",
    "    df1['Delta Timestamp']=df1[' Time Stamp'].diff()/1000\n",
    "    df1['Delta Timestamp']=df1['Delta Timestamp'].fillna(0)\n",
    "    df1['CumTime']=df1['Delta Timestamp'].cumsum()\n",
    "    cumtime+=df1['CumTime'].tail(2).iloc[0]\n",
    "    \n",
    "average_time_per_sim=cumtime/TOTAL_ROUNDS\n",
    "f=TOTAL_BLOCKS/average_time_per_sim\n",
    "average_bits=cumbits/TOTAL_BLOCKS/TOTAL_ROUNDS\n",
    "print(\"f\", f, \"Average Bits\", average_bits)"
   ]
  },
  {
   "cell_type": "code",
   "execution_count": 218,
   "id": "b03031ab-001d-4fab-be15-46e9878320b3",
   "metadata": {},
   "outputs": [],
   "source": [
    "total_winner=[]\n",
    "for bits in x_bits:\n",
    "    result=0\n",
    "    for df in all_dfs:\n",
    "        for value in df[df['Bits']==bits]['Winner']:\n",
    "            result+=value\n",
    "    total_winner.append(result)\n",
    "\n",
    "columns=['Bits', 'Total Wins']\n",
    "m_final = pd.DataFrame(columns=columns)\n",
    "m_final['Bits']=x_bits\n",
    "m_final['Total Wins']=total_winner"
   ]
  },
  {
   "cell_type": "code",
   "execution_count": 219,
   "id": "1718feea-cecd-4d31-af3e-426d81c94a49",
   "metadata": {},
   "outputs": [
    {
     "name": "stdout",
     "output_type": "stream",
     "text": [
      "Expected Number of Blocks 21.0\n"
     ]
    }
   ],
   "source": [
    "expected_number_of_blocks=(m_final[m_final['Total Wins'] > 89].iloc[0].Bits)/(threshold + 1/math.log(2))\n",
    "print(\"Expected Number of Blocks\", expected_number_of_blocks)"
   ]
  },
  {
   "cell_type": "code",
   "execution_count": 220,
   "id": "a04a20e6-570b-414d-8cae-9a0f707b480b",
   "metadata": {},
   "outputs": [],
   "source": [
    "d=(expected_number_of_blocks/f)"
   ]
  },
  {
   "cell_type": "code",
   "execution_count": 221,
   "id": "644facc4-8a40-4fd2-806a-8bb3cd1135f6",
   "metadata": {},
   "outputs": [
    {
     "name": "stdout",
     "output_type": "stream",
     "text": [
      "Confirmation Delay 35.0233506\n"
     ]
    }
   ],
   "source": [
    "print(\"Confirmation Delay\", d)"
   ]
  }
 ],
 "metadata": {
  "kernelspec": {
   "display_name": "Python 3 (ipykernel)",
   "language": "python",
   "name": "python3"
  },
  "language_info": {
   "codemirror_mode": {
    "name": "ipython",
    "version": 3
   },
   "file_extension": ".py",
   "mimetype": "text/x-python",
   "name": "python",
   "nbconvert_exporter": "python",
   "pygments_lexer": "ipython3",
   "version": "3.11.6"
  }
 },
 "nbformat": 4,
 "nbformat_minor": 5
}
